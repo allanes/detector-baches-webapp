{
 "cells": [
  {
   "cell_type": "markdown",
   "metadata": {},
   "source": [
    "### Recuperar metadots de los modelos"
   ]
  },
  {
   "cell_type": "code",
   "execution_count": 9,
   "metadata": {},
   "outputs": [],
   "source": [
    "import os\n",
    "from enum import Enum\n",
    "from pydantic import BaseModel\n",
    "import yaml\n",
    "from yaml.loader import SafeLoader\n",
    "from dotenv import load_dotenv\n",
    "load_dotenv('rutas_cfg.env')\n",
    "\n",
    "class YoloVersiones(str, Enum):\n",
    "    V5 = 'yolov5'\n",
    "    V7 = 'yolov7'\n",
    "    \n",
    "class DatasetRutas(str, Enum):\n",
    "    V1 = 'custom_cfg/data_v1.yaml'\n",
    "    V4 = 'custom_cfg/data_v4.yaml'\n",
    "    \n",
    "class DatasetVersiones(str, Enum):\n",
    "    V1 = 'v1'\n",
    "    V4 = 'v4'\n",
    "\n",
    "class ModelMetadata(BaseModel):\n",
    "    nombre: str\n",
    "    ruta_pesos: str\n",
    "    yolo_ver: YoloVersiones\n",
    "    dataset_ver: DatasetVersiones\n",
    "    image_size: int\n",
    "    \n",
    "RUTA_BASE_MODELOS = os.getenv('RUTA_BASE_MODELOS')"
   ]
  },
  {
   "cell_type": "code",
   "execution_count": 10,
   "metadata": {},
   "outputs": [],
   "source": [
    "\n",
    "\n",
    "lista_modelos = []\n",
    "for carpeta in os.listdir(RUTA_BASE_MODELOS):\n",
    "    file = open(f'{RUTA_BASE_MODELOS}/{carpeta}/opt.yaml', 'r')\n",
    "    opciones_usadas = yaml.load(file, Loader=SafeLoader)\n",
    "    \n",
    "    yolo_ver = opciones_usadas['data'].split('/')[0]\n",
    "    yolo_ver = YoloVersiones(yolo_ver)\n",
    "    \n",
    "    dataset_ver = opciones_usadas['data'].split('/')[1][-1]\n",
    "    dataset_ver = DatasetVersiones('v' + dataset_ver)\n",
    "    \n",
    "    image_size = 416\n",
    "    if yolo_ver == YoloVersiones.V5:\n",
    "        clave_yolov5 = 'imgsz'\n",
    "        image_size = opciones_usadas[clave_yolov5]\n",
    "    elif yolo_ver == YoloVersiones.V7:\n",
    "        clave_yolov7 = 'img_size'\n",
    "        image_size = opciones_usadas[clave_yolov7][0]\n",
    "        \n",
    "    \n",
    "    lista_modelos.append(\n",
    "        ModelMetadata(\n",
    "            nombre=carpeta,\n",
    "            ruta_pesos=f'{RUTA_BASE_MODELOS}/{carpeta}/weights/best.pt',\n",
    "            yolo_ver=yolo_ver,\n",
    "            dataset_ver=dataset_ver,\n",
    "            image_size=image_size\n",
    "        )\n",
    "    )"
   ]
  },
  {
   "cell_type": "code",
   "execution_count": 18,
   "metadata": {},
   "outputs": [
    {
     "name": "stdout",
     "output_type": "stream",
     "text": [
      "custom_cfg/data_v1.yaml\n"
     ]
    }
   ],
   "source": [
    "modelo = lista_modelos[0]\n",
    "\n",
    "print(DatasetRutas[modelo.dataset_ver.name].value)"
   ]
  }
 ],
 "metadata": {
  "kernelspec": {
   "display_name": "Python 3.10.7 64-bit ('.venv': venv)",
   "language": "python",
   "name": "python3"
  },
  "language_info": {
   "codemirror_mode": {
    "name": "ipython",
    "version": 3
   },
   "file_extension": ".py",
   "mimetype": "text/x-python",
   "name": "python",
   "nbconvert_exporter": "python",
   "pygments_lexer": "ipython3",
   "version": "3.10.7"
  },
  "orig_nbformat": 4,
  "vscode": {
   "interpreter": {
    "hash": "2ae70056a9023f5132cef5ec6e6a88a166f5bad8b1f7a1b03917963f25efb28e"
   }
  }
 },
 "nbformat": 4,
 "nbformat_minor": 2
}
